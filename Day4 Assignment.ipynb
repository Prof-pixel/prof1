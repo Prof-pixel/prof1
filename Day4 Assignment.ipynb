{
 "cells": [
  {
   "cell_type": "markdown",
   "metadata": {},
   "source": [
    "# A company decided to give bonus of 5% to employee if his/her year of service is more than 5 years.\n",
    "\n",
    "# Ask user for their salary and year of service and print the net bonus amount."
   ]
  },
  {
   "cell_type": "code",
   "execution_count": 1,
   "metadata": {},
   "outputs": [
    {
     "name": "stdout",
     "output_type": "stream",
     "text": [
      "salary earned:450000\n",
      "years of service:5\n",
      "Sorry service years not greater than 5years\n"
     ]
    }
   ],
   "source": [
    "salary = int(input('salary earned:'))\n",
    "years = int(input('years of service:'))\n",
    "bonus = 0.05*salary\n",
    "if years > 5:\n",
    "    print(bonus)\n",
    "    netbonus = (bonus + salary)\n",
    "    print(f'{netbonus} is the netbonus amount:')\n",
    "else:\n",
    "    print('Sorry service years not greater than 5years')"
   ]
  },
  {
   "cell_type": "markdown",
   "metadata": {},
   "source": [
    "# Take two int values from user and print greatest among them."
   ]
  },
  {
   "cell_type": "code",
   "execution_count": 39,
   "metadata": {},
   "outputs": [
    {
     "name": "stdout",
     "output_type": "stream",
     "text": [
      "please provide a number:12\n",
      "please provide a number:55\n",
      "55: is greater\n"
     ]
    }
   ],
   "source": [
    "num = int(input('please provide a number:'))\n",
    "num1 = int(input('please provide a number:'))\n",
    "if num > num1:\n",
    "    print(f'{num} is greater')\n",
    "else:\n",
    "    print(f'{num1}: is greater')"
   ]
  },
  {
   "cell_type": "markdown",
   "metadata": {},
   "source": [
    "# Take input of age of 3 people by user and determine oldest and youngest among them."
   ]
  },
  {
   "cell_type": "code",
   "execution_count": 3,
   "metadata": {},
   "outputs": [
    {
     "name": "stdout",
     "output_type": "stream",
     "text": [
      "1st person age: 37\n",
      "2nd person age: 35\n",
      "3rd person age: 29\n",
      "Ist person is the oldest\n",
      "3rd person is the youngest\n"
     ]
    }
   ],
   "source": [
    "age1 = int(input('1st person age: '))\n",
    "age2 = int(input('2nd person age: '))\n",
    "age3 = int(input('3rd person age: '))\n",
    "if (age1 > age2) & (age1 > age3):     \n",
    "    print('Ist person is the oldest')     \n",
    "    if (age2 < age3):         \n",
    "        print('2nd Person is the youngest')     \n",
    "    else:         \n",
    "        print('3rd person is the youngest') \n",
    "elif (age2 > age1) & (age2 > age3):     \n",
    "    print('2nd person is the oldest')     \n",
    "    if (age1 < age3):         \n",
    "        print('Ist person is the youngest')\n",
    "    else:\n",
    "         print('3rd person is the youngest') \n",
    "    if (age1 < age2):          \n",
    "        print('Ist person is the youngest')      \n",
    "    else:          \n",
    "         print('2nd person is the youngest')\n",
    "              "
   ]
  },
  {
   "cell_type": "markdown",
   "metadata": {},
   "source": [
    " # A student will not be allowed to sit in exam if his/her attendence is less than 75%.\n",
    "\n",
    "# Take following input from user\n",
    "\n",
    "# Number of classes held\n",
    "\n",
    "# Number of classes attended.\n",
    "\n",
    "# And printpercentage of class attendedIs student is allowed to sit in exam or not. \n"
   ]
  },
  {
   "cell_type": "code",
   "execution_count": 8,
   "metadata": {},
   "outputs": [
    {
     "name": "stdout",
     "output_type": "stream",
     "text": [
      "Number of classes held:30\n",
      "Number of classes attended:15\n",
      "The student is not allowed to sit in the exam hall\n"
     ]
    }
   ],
   "source": [
    "x=int(input(\"Number of classes held:\"))\n",
    "\n",
    "y=int(input(\"Number of classes attended:\"))\n",
    "\n",
    "percentage=y/x*100\n",
    "\n",
    "if percentage>=75:\n",
    "\n",
    "        print(\"The student is allowed to sit in the exam hall\")\n",
    "\n",
    "else:\n",
    "\n",
    "        print(\"The student is not allowed to sit in the exam hall\")"
   ]
  },
  {
   "cell_type": "markdown",
   "metadata": {},
   "source": [
    "# Ask user to enter age, sex ( M or F ), marital status ( Y or N ) and then using following rules print their place of service.\n",
    "\n",
    "# if employee is female, then she will work only in urban areas.\n",
    "\n",
    "# if employee is a male and age is in between 20 to 40 then he may work in anywhere\n",
    "\n",
    "# if employee is male and age is in between 40 t0 60 then he will work in urban areas only.\n",
    "\n",
    " \n",
    "\n"
   ]
  },
  {
   "cell_type": "code",
   "execution_count": 10,
   "metadata": {},
   "outputs": [
    {
     "name": "stdout",
     "output_type": "stream",
     "text": [
      "age:25\n",
      "M/F:M\n",
      "Y/N:Y\n",
      "place_of_service(25, 'M', 'Y')\n",
      "Work anywhere\n"
     ]
    }
   ],
   "source": [
    "age, gender, married = int(input('age:')), input('M/F:'), input('Y/N:')\n",
    "print(f'place_of_service{age, gender, married}')\n",
    "if gender == 'F':\n",
    "    print('urban areas')\n",
    "if gender == 'M' and age > 20 or age <= 60:\n",
    "    print('Work anywhere')\n",
    "if gender == 'M' and age >= 40:\n",
    "    print('work in urban area only')"
   ]
  },
  {
   "cell_type": "code",
   "execution_count": null,
   "metadata": {},
   "outputs": [],
   "source": []
  }
 ],
 "metadata": {
  "kernelspec": {
   "display_name": "Python 3",
   "language": "python",
   "name": "python3"
  },
  "language_info": {
   "codemirror_mode": {
    "name": "ipython",
    "version": 3
   },
   "file_extension": ".py",
   "mimetype": "text/x-python",
   "name": "python",
   "nbconvert_exporter": "python",
   "pygments_lexer": "ipython3",
   "version": "3.8.5"
  }
 },
 "nbformat": 4,
 "nbformat_minor": 4
}
