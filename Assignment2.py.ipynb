{
 "cells": [
  {
   "cell_type": "code",
   "execution_count": 1,
   "metadata": {},
   "outputs": [],
   "source": [
    "num1 = '458'"
   ]
  },
  {
   "cell_type": "code",
   "execution_count": 2,
   "metadata": {},
   "outputs": [
    {
     "name": "stdout",
     "output_type": "stream",
     "text": [
      "458.0\n"
     ]
    }
   ],
   "source": [
    "print(float(num1))"
   ]
  },
  {
   "cell_type": "code",
   "execution_count": 6,
   "metadata": {},
   "outputs": [
    {
     "name": "stdout",
     "output_type": "stream",
     "text": [
      "please provide your name: King\n"
     ]
    }
   ],
   "source": [
    "firstname = input('please provide your name')"
   ]
  },
  {
   "cell_type": "code",
   "execution_count": 9,
   "metadata": {},
   "outputs": [
    {
     "name": "stdout",
     "output_type": "stream",
     "text": [
      "please provide your name: Paul\n"
     ]
    }
   ],
   "source": [
    "secondname = input('please provide your name')"
   ]
  },
  {
   "cell_type": "code",
   "execution_count": 16,
   "metadata": {},
   "outputs": [
    {
     "name": "stdout",
     "output_type": "stream",
     "text": [
      "please provide your name: Are\n"
     ]
    }
   ],
   "source": [
    "Surname = input('please provide your name')"
   ]
  },
  {
   "cell_type": "markdown",
   "metadata": {},
   "source": [
    "# write a program to find the amount that #5000 becomes if saved for 3 years at 6% per annum compound interest"
   ]
  },
  {
   "cell_type": "code",
   "execution_count": 2,
   "metadata": {},
   "outputs": [
    {
     "name": "stdout",
     "output_type": "stream",
     "text": [
      "the amount 5000 will become if saveed for 3 years at 6% compound interest is 5983.402624117073\n"
     ]
    }
   ],
   "source": [
    "# A=p(1+(r/n))**nt\n",
    "p = 5000\n",
    "r = 6/100\n",
    "t = 3\n",
    "n = 12\n",
    "A = p*(1+(r/n))**(n*t)\n",
    "print(f'the amount {p} will become if saveed for {t} years at 6% compound interest is {A}')"
   ]
  },
  {
   "cell_type": "markdown",
   "metadata": {},
   "source": [
    "# Members of a family estimate that they will need 700000 to improve their house in 3 years time. they deposit 550000 at 5% per annum compound interest they add 25000 at the end of 1st year and 35000 at the end of 2nd year  write a program to find 1.their total savings after 3 years 2. by how much are their saving greater than or less than 700000 needed"
   ]
  },
  {
   "cell_type": "code",
   "execution_count": 9,
   "metadata": {},
   "outputs": [
    {
     "name": "stdout",
     "output_type": "stream",
     "text": [
      "57981.875\n"
     ]
    }
   ],
   "source": [
    "p1 = 55000\n",
    "p2 = 25000\n",
    "p3 = 35000\n",
    "r = 5/100\n",
    "n = 12\n",
    "t = 3\n",
    "estimated = 70000\n",
    "Firstyear = (p1 *(1 + r)**1) + p2\n",
    "secondyear = (Firstyear*(1 + r)**1) + p3\n",
    "thirdyear = (secondyear*(1 + r)**1)\n",
    "diff = thirdyear - estimated\n",
    "print(diff)\n",
    "\n"
   ]
  },
  {
   "cell_type": "code",
   "execution_count": null,
   "metadata": {},
   "outputs": [],
   "source": []
  }
 ],
 "metadata": {
  "kernelspec": {
   "display_name": "Python 3",
   "language": "python",
   "name": "python3"
  },
  "language_info": {
   "codemirror_mode": {
    "name": "ipython",
    "version": 3
   },
   "file_extension": ".py",
   "mimetype": "text/x-python",
   "name": "python",
   "nbconvert_exporter": "python",
   "pygments_lexer": "ipython3",
   "version": "3.8.5"
  }
 },
 "nbformat": 4,
 "nbformat_minor": 4
}
