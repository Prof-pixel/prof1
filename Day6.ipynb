{
 "cells": [
  {
   "cell_type": "markdown",
   "metadata": {},
   "source": [
    "# Functions\n",
    "# 3 levels of function\n",
    "# we have inbuilt function\n",
    "# user defined function\n",
    "# user defined function takes care of duplication\n",
    "# you must call a function to get an output\n",
    "# first, define the function e.g def greet():"
   ]
  },
  {
   "cell_type": "code",
   "execution_count": 1,
   "metadata": {},
   "outputs": [],
   "source": [
    "def greet():# A function without parameter or an argument\n",
    "    return 'Hey welcome to python class'"
   ]
  },
  {
   "cell_type": "code",
   "execution_count": 2,
   "metadata": {},
   "outputs": [
    {
     "data": {
      "text/plain": [
       "'Hey welcome to python class'"
      ]
     },
     "execution_count": 2,
     "metadata": {},
     "output_type": "execute_result"
    }
   ],
   "source": [
    "greet()"
   ]
  },
  {
   "cell_type": "code",
   "execution_count": 3,
   "metadata": {},
   "outputs": [
    {
     "data": {
      "text/plain": [
       "'Hey welcome to python class'"
      ]
     },
     "execution_count": 3,
     "metadata": {},
     "output_type": "execute_result"
    }
   ],
   "source": [
    "greet()"
   ]
  },
  {
   "cell_type": "code",
   "execution_count": 9,
   "metadata": {},
   "outputs": [
    {
     "data": {
      "text/plain": [
       "'Hey Francis welcome to python class'"
      ]
     },
     "execution_count": 9,
     "metadata": {},
     "output_type": "execute_result"
    }
   ],
   "source": [
    "def greet2(name): # A function with a single parameter or argument\n",
    "    return f'Hey {name} welcome to python class'\n",
    "\n",
    "\n",
    "greet2('Francis')"
   ]
  },
  {
   "cell_type": "code",
   "execution_count": 11,
   "metadata": {},
   "outputs": [
    {
     "data": {
      "text/plain": [
       "'Hey Prince welcome to python class'"
      ]
     },
     "execution_count": 11,
     "metadata": {},
     "output_type": "execute_result"
    }
   ],
   "source": [
    "greet2('Prince')"
   ]
  },
  {
   "cell_type": "code",
   "execution_count": 12,
   "metadata": {},
   "outputs": [],
   "source": [
    "# funtion with more than one parameters"
   ]
  },
  {
   "cell_type": "markdown",
   "metadata": {},
   "source": [
    "# To ascertain the eligibility of voters by the use of mininum age of 18years and above"
   ]
  },
  {
   "cell_type": "code",
   "execution_count": 18,
   "metadata": {},
   "outputs": [
    {
     "name": "stdout",
     "output_type": "stream",
     "text": [
      "please provide your nameKingsley\n",
      "please provide your genderMale\n",
      "please provide your age17\n",
      "Name:Kingsley\n",
      "Gender:Male\n",
      "Age:17\n",
      "\n",
      "OPSS!! sorry you are not eligible to vote\n"
     ]
    }
   ],
   "source": [
    "def vote(Name,Gender,Age):\n",
    "    print(f'''Name:{Name}\n",
    "Gender:{Gender}\n",
    "Age:{Age}\n",
    "''')\n",
    "    if Age >= 18:\n",
    "        print('Congratulations you are eligible to vote')\n",
    "    else:\n",
    "            print('OPSS!! sorry you are not eligible to vote')\n",
    "vote(input('please provide your name'), input('please provide your gender'),int(input('please provide your age')))"
   ]
  },
  {
   "cell_type": "code",
   "execution_count": 20,
   "metadata": {},
   "outputs": [
    {
     "name": "stdout",
     "output_type": "stream",
     "text": [
      "please provide your namePhilip\n",
      "please provide your genderFemale\n",
      "Name:Philip\n",
      "Gender:Female\n",
      "Age:18\n",
      "\n",
      "Congratulations you are eligible to vote\n"
     ]
    }
   ],
   "source": [
    "def vote(Name,Gender,Age = 18):\n",
    "    print(f'''Name:{Name}\n",
    "Gender:{Gender}\n",
    "Age:{Age}\n",
    "''')\n",
    "    if Age >= 18:\n",
    "        print('Congratulations you are eligible to vote')\n",
    "    else:\n",
    "            print('OPSS!! sorry you are not eligible to vote')\n",
    "vote(input('please provide your name'), input('please provide your gender'))"
   ]
  },
  {
   "cell_type": "code",
   "execution_count": 21,
   "metadata": {},
   "outputs": [
    {
     "name": "stdout",
     "output_type": "stream",
     "text": [
      "please provide your nameChisom\n",
      "please provide your genderFemale\n",
      "please provide your age14\n",
      "Name:Chisom\n",
      "Gender:Female\n",
      "Age:14\n",
      "\n",
      "OPSS!! sorry you are not eligible to vote\n"
     ]
    }
   ],
   "source": [
    "vote(input('please provide your name'), input('please provide your gender'),int(input('please provide your age')))"
   ]
  },
  {
   "cell_type": "code",
   "execution_count": 22,
   "metadata": {},
   "outputs": [
    {
     "name": "stdout",
     "output_type": "stream",
     "text": [
      "please provide your nameFelix\n",
      "please provide your genderMale\n",
      "please provide your age35\n",
      "Name:Felix\n",
      "Gender:Male\n",
      "Age:35\n",
      "\n",
      "Congratulations you are eligible to vote\n"
     ]
    }
   ],
   "source": [
    "vote(input('please provide your name'), input('please provide your gender'),int(input('please provide your age')))"
   ]
  },
  {
   "cell_type": "code",
   "execution_count": 23,
   "metadata": {},
   "outputs": [],
   "source": [
    "# keyword argument and non key word argument\n",
    "# Non key word argument allows you enter without any key and its used to enter multiple values\n",
    "# "
   ]
  },
  {
   "cell_type": "code",
   "execution_count": 26,
   "metadata": {},
   "outputs": [
    {
     "name": "stdout",
     "output_type": "stream",
     "text": [
      "<class 'tuple'>\n",
      "53.125\n"
     ]
    }
   ],
   "source": [
    "def average(*args): # Nonkey word argument\n",
    "    print(type(args))\n",
    "    import statistics as stat\n",
    "    print(stat.mean(args))\n",
    "average(45,75,34,17,65,35,89,65)"
   ]
  },
  {
   "cell_type": "code",
   "execution_count": 27,
   "metadata": {},
   "outputs": [
    {
     "name": "stdout",
     "output_type": "stream",
     "text": [
      "<class 'tuple'>\n",
      "161\n"
     ]
    }
   ],
   "source": [
    "values = [45,10,100,120,502,250,100]\n",
    "average(*values)"
   ]
  },
  {
   "cell_type": "code",
   "execution_count": 28,
   "metadata": {},
   "outputs": [
    {
     "name": "stdout",
     "output_type": "stream",
     "text": [
      "<class 'dict'>\n",
      "Name : Ejiofor Magrate\n",
      "Age : 55\n",
      "Gender : Female\n"
     ]
    }
   ],
   "source": [
    "#Key word argument, we use double **\n",
    "def details(**records):\n",
    "    print(type(records))\n",
    "    for key, value in records.items():\n",
    "        print(f'{key} : {value}')\n",
    "details(Name = 'Ejiofor Magrate',Age = 55, Gender = 'Female')"
   ]
  },
  {
   "cell_type": "code",
   "execution_count": 29,
   "metadata": {},
   "outputs": [
    {
     "name": "stdout",
     "output_type": "stream",
     "text": [
      "<class 'dict'>\n",
      "Name : ['Ejiofor Magrate', 'Uche', 'Cross']\n",
      "Age : [55, 35, 67]\n",
      "Gender : ['Female', 'Male', 'Male']\n"
     ]
    }
   ],
   "source": [
    "details(Name = ['Ejiofor Magrate','Uche','Cross'],Age = [55,35,67], Gender = ['Female','Male','Male'])"
   ]
  },
  {
   "cell_type": "markdown",
   "metadata": {},
   "source": [
    "# A dice game rolling a die ten times between two player that print the winner at the end of each roll which gives the overall winner at the end of the game"
   ]
  },
  {
   "cell_type": "code",
   "execution_count": 31,
   "metadata": {},
   "outputs": [
    {
     "name": "stdout",
     "output_type": "stream",
     "text": [
      "player one score 8\n",
      "player two score 6\n",
      "player one wins\n",
      "player one score 8\n",
      "player two score 5\n",
      "player one wins\n",
      "player one score 6\n",
      "player two score 5\n",
      "player one wins\n",
      "player one score 6\n",
      "player two score 9\n",
      "player two wins\n",
      "player one score 9\n",
      "player two score 7\n",
      "player one wins\n",
      "player one score 10\n",
      "player two score 10\n",
      "IT'S A DRAW\n",
      "player one score 3\n",
      "player two score 6\n",
      "player two wins\n",
      "player one score 11\n",
      "player two score 8\n",
      "player one wins\n",
      "player one score 8\n",
      "player two score 7\n",
      "player one wins\n",
      "player one score 3\n",
      "player two score 2\n",
      "player one wins\n",
      "player one is the overall winner with total point of 36\n"
     ]
    }
   ],
   "source": [
    "def rolldice():\n",
    "    import random as rn\n",
    "    player1score = 0\n",
    "    player2score = 0\n",
    "    for x in range(1,11):\n",
    "        dice1 = sum([rn.randint(1,6),rn.randint(1,6)])\n",
    "        dice2 = sum([rn.randint(1,6),rn.randint(1,6)])\n",
    "        if dice1 > dice2:\n",
    "            print(f'player one score {dice1}')\n",
    "            print(f'player two score {dice2}')\n",
    "            print('player one wins')\n",
    "            player1score = player1score + 5\n",
    "        elif dice2 > dice1:\n",
    "            print(f'player one score {dice1}')\n",
    "            print(f'player two score {dice2}')\n",
    "            print('player two wins')\n",
    "            player2score = player2score + 5\n",
    "        else:\n",
    "            print(f'player one score {dice1}')\n",
    "            print(f'player two score {dice2}')\n",
    "            print('IT\\'S A DRAW')\n",
    "            player1score = player1score + 1\n",
    "            player2score = player2score + 1\n",
    "    if player1score > player2score:\n",
    "        print(f'player one is the overall winner with total point of {player1score}')\n",
    "    elif player2score > player1score:\n",
    "        print(f'player two is the overall winner with total point of {player2score}')\n",
    "    else:\n",
    "        print('IT\\'S A DRAW')\n",
    "        \n",
    "rolldice()\n",
    "            \n",
    "        "
   ]
  },
  {
   "cell_type": "code",
   "execution_count": null,
   "metadata": {},
   "outputs": [],
   "source": []
  }
 ],
 "metadata": {
  "kernelspec": {
   "display_name": "Python 3",
   "language": "python",
   "name": "python3"
  },
  "language_info": {
   "codemirror_mode": {
    "name": "ipython",
    "version": 3
   },
   "file_extension": ".py",
   "mimetype": "text/x-python",
   "name": "python",
   "nbconvert_exporter": "python",
   "pygments_lexer": "ipython3",
   "version": "3.8.5"
  }
 },
 "nbformat": 4,
 "nbformat_minor": 4
}
