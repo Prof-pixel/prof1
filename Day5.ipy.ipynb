{
 "cells": [
  {
   "cell_type": "markdown",
   "metadata": {},
   "source": [
    "# LOOPS\n",
    "# TYPES OF LOOPS\n",
    "# FOR LOOP= when you know how many times the operation is to be repitited\n",
    "# for processing iterable objects"
   ]
  },
  {
   "cell_type": "code",
   "execution_count": 3,
   "metadata": {},
   "outputs": [
    {
     "name": "stdout",
     "output_type": "stream",
     "text": [
      "p\n",
      "y\n",
      "t\n",
      "h\n",
      "o\n",
      "n\n"
     ]
    }
   ],
   "source": [
    "word = 'python'\n",
    "for char in word:\n",
    "    print(char)"
   ]
  },
  {
   "cell_type": "code",
   "execution_count": 4,
   "metadata": {},
   "outputs": [
    {
     "name": "stdout",
     "output_type": "stream",
     "text": [
      "ppp\n",
      "yyy\n",
      "ttt\n",
      "hhh\n",
      "ooo\n",
      "nnn\n"
     ]
    }
   ],
   "source": [
    "word = 'python'\n",
    "for char in word:\n",
    "    print(char*3)"
   ]
  },
  {
   "cell_type": "code",
   "execution_count": 6,
   "metadata": {},
   "outputs": [
    {
     "name": "stdout",
     "output_type": "stream",
     "text": [
      "Hey, Francis this is for your reminder of the meeting scheduled to hold by 12pm on Friday 27th May 2022\n",
      "Hey, John this is for your reminder of the meeting scheduled to hold by 12pm on Friday 27th May 2022\n",
      "Hey, Samuel this is for your reminder of the meeting scheduled to hold by 12pm on Friday 27th May 2022\n",
      "Hey, Mk this is for your reminder of the meeting scheduled to hold by 12pm on Friday 27th May 2022\n",
      "Hey, Anita this is for your reminder of the meeting scheduled to hold by 12pm on Friday 27th May 2022\n"
     ]
    }
   ],
   "source": [
    "friends = ['Francis','John','Samuel','Mk','Anita']\n",
    "for item in friends:\n",
    "    print(f'Hey, {item} this is for your reminder of the meeting scheduled to hold by 12pm on Friday 27th May 2022')"
   ]
  },
  {
   "cell_type": "code",
   "execution_count": 7,
   "metadata": {},
   "outputs": [
    {
     "name": "stdout",
     "output_type": "stream",
     "text": [
      "John : 89\n",
      "Samuel : 98\n",
      "James : 79\n",
      "Mary : 85\n",
      "Yinusa : 70\n",
      "Hope : 89\n"
     ]
    }
   ],
   "source": [
    "studentscore = {\n",
    "    'John':89,\n",
    "    'Samuel':98,\n",
    "    'James':79,\n",
    "    'Mary':85,\n",
    "    'Yinusa':70,\n",
    "    'Hope':89\n",
    "}\n",
    "for key, value in studentscore.items():\n",
    "    print(key, ':',value)"
   ]
  },
  {
   "cell_type": "code",
   "execution_count": 13,
   "metadata": {},
   "outputs": [
    {
     "name": "stdout",
     "output_type": "stream",
     "text": [
      "please provide your name to check your result:Mary\n",
      "your score is in 85\n",
      "sorry name not found\n"
     ]
    }
   ],
   "source": [
    "studentscore = {\n",
    "    'John':89,\n",
    "    'Samuel':98,\n",
    "    'James':79,\n",
    "    'Mary':85,\n",
    "    'Yinusa':70,\n",
    "    'Hope':89\n",
    "}\n",
    "name = input('please provide your name to check your result:')\n",
    "for key in studentscore:\n",
    "    if key == name:\n",
    "        print(f'your score is in {studentscore[key]}')\n",
    "        continue\n",
    "else:\n",
    "    print('sorry name not found')"
   ]
  },
  {
   "cell_type": "code",
   "execution_count": 16,
   "metadata": {},
   "outputs": [
    {
     "name": "stdout",
     "output_type": "stream",
     "text": [
      "1\n",
      "4\n",
      "9\n",
      "16\n",
      "25\n",
      "36\n",
      "49\n",
      "64\n",
      "81\n",
      "100\n",
      "121\n",
      "144\n"
     ]
    }
   ],
   "source": [
    "for num in range(1,13):\n",
    "    print(num**2)"
   ]
  },
  {
   "cell_type": "code",
   "execution_count": 19,
   "metadata": {},
   "outputs": [
    {
     "name": "stdout",
     "output_type": "stream",
     "text": [
      "please provide a number:56\n",
      "56 x 1 = 56\n",
      "56 x 2 = 112\n",
      "56 x 3 = 168\n",
      "56 x 4 = 224\n",
      "56 x 5 = 280\n",
      "56 x 6 = 336\n",
      "56 x 7 = 392\n",
      "56 x 8 = 448\n",
      "56 x 9 = 504\n",
      "56 x 10 = 560\n",
      "56 x 11 = 616\n",
      "56 x 12 = 672\n"
     ]
    }
   ],
   "source": [
    "num = int(input('please provide a number:'))\n",
    "for i in range(1,13):\n",
    "    print(f'{num} x {i} = {num*i}')"
   ]
  },
  {
   "cell_type": "markdown",
   "metadata": {},
   "source": [
    "# WHILE LOOP = WE DO NOT KNOW HOW MANY TIMES AND IT WONT STOP RUNNING UNTIL STOPPED."
   ]
  },
  {
   "cell_type": "code",
   "execution_count": 21,
   "metadata": {},
   "outputs": [
    {
     "name": "stdout",
     "output_type": "stream",
     "text": [
      "please provide a number:3\n",
      "The square root of 3 is 1.7320508075688772\n",
      "please provide a number:8\n",
      "The square root of 8 is 2.8284271247461903\n",
      "please provide a number:2\n",
      "The square root of 2 is 1.4142135623730951\n",
      "please provide a number:23\n",
      "The square root of 23 is 4.795831523312719\n",
      "please provide a number:45\n",
      "The square root of 45 is 6.708203932499369\n",
      "please provide a number:0\n"
     ]
    }
   ],
   "source": [
    "import math\n",
    "num = int(input('please provide a number:'))\n",
    "counter = 1\n",
    "while num != 0:\n",
    "    print(f'The square root of {num} is {math.sqrt(num)}')\n",
    "    counter = counter + 1\n",
    "    num = int(input('please provide a number:'))"
   ]
  },
  {
   "cell_type": "code",
   "execution_count": 25,
   "metadata": {},
   "outputs": [
    {
     "name": "stdout",
     "output_type": "stream",
     "text": [
      "please provide guess between 1 and 20:8\n",
      "Guess is 8\n",
      "Hey Guess is lower than the generated number\n",
      "Please provide guess between 1 and 20:16\n",
      "Guess is 16\n",
      "Hey, Guess is higher than the generated number\n",
      "Please provide guess between 1 and 20:15\n",
      "Guess is 15\n",
      "Hey, Guess is higher than the generated number\n",
      "Please provide guess between 1 and 20:5\n",
      "Guess is 5\n",
      "Hey Guess is lower than the generated number\n",
      "Please provide guess between 1 and 20:9\n",
      "Guess is 9\n",
      "Hey Guess is lower than the generated number\n",
      "Please provide guess between 1 and 20:2\n",
      "Guess is 2\n",
      "Hey Guess is lower than the generated number\n",
      "Please provide guess between 1 and 20:19\n",
      "Guess is 19\n",
      "Hey, Guess is higher than the generated number\n",
      "Please provide guess between 1 and 20:14\n",
      "Congratulations Guess is correct\n"
     ]
    }
   ],
   "source": [
    "import random\n",
    "num = random.randint(1,20)\n",
    "guess = int(input('please provide guess between 1 and 20:'))\n",
    "counter = 1\n",
    "while num != guess:\n",
    "    print(f'Guess is {guess}')\n",
    "    counter +=1\n",
    "    \n",
    "    if guess > num:\n",
    "        print('Hey, Guess is higher than the generated number')\n",
    "    elif guess < num:\n",
    "            print('Hey Guess is lower than the generated number')\n",
    "    guess = int(input('Please provide guess between 1 and 20:'))\n",
    "print('Congratulations Guess is correct')"
   ]
  },
  {
   "cell_type": "code",
   "execution_count": null,
   "metadata": {},
   "outputs": [],
   "source": []
  }
 ],
 "metadata": {
  "kernelspec": {
   "display_name": "Python 3",
   "language": "python",
   "name": "python3"
  },
  "language_info": {
   "codemirror_mode": {
    "name": "ipython",
    "version": 3
   },
   "file_extension": ".py",
   "mimetype": "text/x-python",
   "name": "python",
   "nbconvert_exporter": "python",
   "pygments_lexer": "ipython3",
   "version": "3.8.5"
  }
 },
 "nbformat": 4,
 "nbformat_minor": 4
}
