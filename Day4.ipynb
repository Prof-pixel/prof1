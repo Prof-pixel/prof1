{
 "cells": [
  {
   "cell_type": "markdown",
   "metadata": {},
   "source": [
    "# Modules"
   ]
  },
  {
   "cell_type": "code",
   "execution_count": 1,
   "metadata": {},
   "outputs": [],
   "source": [
    "import math"
   ]
  },
  {
   "cell_type": "code",
   "execution_count": 2,
   "metadata": {},
   "outputs": [
    {
     "name": "stdout",
     "output_type": "stream",
     "text": [
      "['__doc__', '__loader__', '__name__', '__package__', '__spec__', 'acos', 'acosh', 'asin', 'asinh', 'atan', 'atan2', 'atanh', 'ceil', 'comb', 'copysign', 'cos', 'cosh', 'degrees', 'dist', 'e', 'erf', 'erfc', 'exp', 'expm1', 'fabs', 'factorial', 'floor', 'fmod', 'frexp', 'fsum', 'gamma', 'gcd', 'hypot', 'inf', 'isclose', 'isfinite', 'isinf', 'isnan', 'isqrt', 'ldexp', 'lgamma', 'log', 'log10', 'log1p', 'log2', 'modf', 'nan', 'perm', 'pi', 'pow', 'prod', 'radians', 'remainder', 'sin', 'sinh', 'sqrt', 'tan', 'tanh', 'tau', 'trunc']\n"
     ]
    }
   ],
   "source": [
    "print(dir(math))"
   ]
  },
  {
   "cell_type": "code",
   "execution_count": 3,
   "metadata": {},
   "outputs": [
    {
     "name": "stdout",
     "output_type": "stream",
     "text": [
      "16\n",
      "15\n"
     ]
    }
   ],
   "source": [
    "number = 15.56\n",
    "print(math.ceil(number))\n",
    "print(math.floor(number))"
   ]
  },
  {
   "cell_type": "code",
   "execution_count": 4,
   "metadata": {},
   "outputs": [
    {
     "name": "stdout",
     "output_type": "stream",
     "text": [
      "['Counter', 'Decimal', 'Fraction', 'NormalDist', 'StatisticsError', '__all__', '__builtins__', '__cached__', '__doc__', '__file__', '__loader__', '__name__', '__package__', '__spec__', '_coerce', '_convert', '_exact_ratio', '_fail_neg', '_find_lteq', '_find_rteq', '_isfinite', '_normal_dist_inv_cdf', '_ss', '_sum', 'bisect_left', 'bisect_right', 'erf', 'exp', 'fabs', 'fmean', 'fsum', 'geometric_mean', 'groupby', 'harmonic_mean', 'hypot', 'itemgetter', 'log', 'math', 'mean', 'median', 'median_grouped', 'median_high', 'median_low', 'mode', 'multimode', 'numbers', 'pstdev', 'pvariance', 'quantiles', 'random', 'sqrt', 'stdev', 'tau', 'variance']\n"
     ]
    }
   ],
   "source": [
    "import statistics as stat\n",
    "print(dir(stat))"
   ]
  },
  {
   "cell_type": "code",
   "execution_count": 5,
   "metadata": {},
   "outputs": [
    {
     "name": "stdout",
     "output_type": "stream",
     "text": [
      "73.5\n",
      "78\n",
      "78.0\n"
     ]
    }
   ],
   "source": [
    "numbers = [84,57,78,93,86,45,78,67]\n",
    "print(stat.mean(numbers))\n",
    "print(stat.mode(numbers))\n",
    "print(stat.median(numbers))"
   ]
  },
  {
   "cell_type": "code",
   "execution_count": 6,
   "metadata": {},
   "outputs": [
    {
     "name": "stdout",
     "output_type": "stream",
     "text": [
      "['BPF', 'LOG4', 'NV_MAGICCONST', 'RECIP_BPF', 'Random', 'SG_MAGICCONST', 'SystemRandom', 'TWOPI', '_Sequence', '_Set', '__all__', '__builtins__', '__cached__', '__doc__', '__file__', '__loader__', '__name__', '__package__', '__spec__', '_accumulate', '_acos', '_bisect', '_ceil', '_cos', '_e', '_exp', '_inst', '_log', '_os', '_pi', '_random', '_repeat', '_sha512', '_sin', '_sqrt', '_test', '_test_generator', '_urandom', '_warn', 'betavariate', 'choice', 'choices', 'expovariate', 'gammavariate', 'gauss', 'getrandbits', 'getstate', 'lognormvariate', 'normalvariate', 'paretovariate', 'randint', 'random', 'randrange', 'sample', 'seed', 'setstate', 'shuffle', 'triangular', 'uniform', 'vonmisesvariate', 'weibullvariate']\n"
     ]
    }
   ],
   "source": [
    "import random as rn\n",
    "print(dir(rn))"
   ]
  },
  {
   "cell_type": "code",
   "execution_count": 7,
   "metadata": {},
   "outputs": [
    {
     "name": "stdout",
     "output_type": "stream",
     "text": [
      "13\n"
     ]
    }
   ],
   "source": [
    "num = rn.randint(10,25)\n",
    "print(num)"
   ]
  },
  {
   "cell_type": "code",
   "execution_count": 8,
   "metadata": {},
   "outputs": [
    {
     "name": "stdout",
     "output_type": "stream",
     "text": [
      "93\n"
     ]
    }
   ],
   "source": [
    "print(rn.choice(numbers))"
   ]
  },
  {
   "cell_type": "code",
   "execution_count": 9,
   "metadata": {},
   "outputs": [
    {
     "name": "stdout",
     "output_type": "stream",
     "text": [
      "[86, 93, 57, 84, 78, 67, 45, 78]\n"
     ]
    }
   ],
   "source": [
    "rn.shuffle(numbers)\n",
    "print(numbers)"
   ]
  },
  {
   "cell_type": "code",
   "execution_count": 12,
   "metadata": {},
   "outputs": [
    {
     "name": "stdout",
     "output_type": "stream",
     "text": [
      "please provide a number45\n",
      "45 is an odd number\n"
     ]
    }
   ],
   "source": [
    "# conditional statements are used for making decisions and choices\n",
    "num = int(input('please provide a number'))\n",
    "if num % 2 != 0:\n",
    "    print(f'{num} is an odd number')\n",
    "# for the if condition it will return an output only if the condition is true"
   ]
  },
  {
   "cell_type": "code",
   "execution_count": 14,
   "metadata": {},
   "outputs": [
    {
     "name": "stdout",
     "output_type": "stream",
     "text": [
      "please provide a number48\n",
      "48 is an even number\n"
     ]
    }
   ],
   "source": [
    "num = int(input('please provide a number'))\n",
    "if num % 2 != 0:\n",
    "    print(f'{num} is an odd number')\n",
    "else:\n",
    "    print(f'{num} is an even number')"
   ]
  },
  {
   "cell_type": "code",
   "execution_count": 22,
   "metadata": {},
   "outputs": [
    {
     "name": "stdout",
     "output_type": "stream",
     "text": [
      "please provide a number63\n",
      "63 is not divisible by 5 and 7\n"
     ]
    }
   ],
   "source": [
    "# write a python program to check if a given number is divisible by 5 and 7\n",
    "num1 = int(input('please provide a number'))\n",
    "if num1 % 5 == 0 and num1 % 7 == 0:\n",
    "    print(f'{num1} is divisible by 5 and 7')\n",
    "else:\n",
    "    print(f'{num1} is not divisible by 5 and 7')"
   ]
  },
  {
   "cell_type": "code",
   "execution_count": 25,
   "metadata": {},
   "outputs": [
    {
     "name": "stdout",
     "output_type": "stream",
     "text": [
      "Driver's speed:75\n",
      "you are above the speed limit with a point of 1 which is still acceptable  Be warned\n"
     ]
    }
   ],
   "source": [
    "defaultspeed = 70\n",
    "Dspeed = int(input('Driver\\'s speed:'))\n",
    "if Dspeed <= defaultspeed:\n",
    "    print('speed ok on track')\n",
    "else:\n",
    "    points = (Dspeed - defaultspeed) // 5\n",
    "    if points <= 12:\n",
    "        print(f'you are above the speed limit with a point of {points} which is still acceptable  Be warned')\n",
    "    else:\n",
    "        print(f'you are above the speed limit with a point of {points} which is way above the given point! License suspended')\n"
   ]
  },
  {
   "cell_type": "code",
   "execution_count": 26,
   "metadata": {},
   "outputs": [
    {
     "name": "stdout",
     "output_type": "stream",
     "text": [
      "WELCOME PRONET MALL!!!!!!!!!!!!!\n",
      "0:Ground floor\n",
      "1:First Floor\n",
      "2:Second Floor\n",
      "3:Third Floor\n",
      "4:Lounge\n",
      "\n",
      "Choose the floor you like to go to0\n",
      "!!!!!!!!!!!!! Ground floor\n"
     ]
    }
   ],
   "source": [
    "print('WELCOME PRONET MALL!!!!!!!!!!!!!')\n",
    "print('''0:Ground floor\n",
    "1:First Floor\n",
    "2:Second Floor\n",
    "3:Third Floor\n",
    "4:Lounge\n",
    "''')\n",
    "choice = int(input('Choose the floor you like to go to'))\n",
    "if choice == 1:\n",
    "    print('!!!!!!!!!!! First Floor')\n",
    "elif choice == 2:\n",
    "    print('!!!!!!!!!!!!! Second Floor')\n",
    "elif choice == 3:\n",
    "    print('!!!!!!!!!!!!!! Third Floor')\n",
    "elif choice == 4:\n",
    "    print('!!!!!!!!!!!!! Lounge')\n",
    "else:\n",
    "    print('!!!!!!!!!!!!! Ground floor')"
   ]
  },
  {
   "cell_type": "code",
   "execution_count": null,
   "metadata": {},
   "outputs": [],
   "source": []
  }
 ],
 "metadata": {
  "kernelspec": {
   "display_name": "Python 3",
   "language": "python",
   "name": "python3"
  },
  "language_info": {
   "codemirror_mode": {
    "name": "ipython",
    "version": 3
   },
   "file_extension": ".py",
   "mimetype": "text/x-python",
   "name": "python",
   "nbconvert_exporter": "python",
   "pygments_lexer": "ipython3",
   "version": "3.8.5"
  }
 },
 "nbformat": 4,
 "nbformat_minor": 4
}
